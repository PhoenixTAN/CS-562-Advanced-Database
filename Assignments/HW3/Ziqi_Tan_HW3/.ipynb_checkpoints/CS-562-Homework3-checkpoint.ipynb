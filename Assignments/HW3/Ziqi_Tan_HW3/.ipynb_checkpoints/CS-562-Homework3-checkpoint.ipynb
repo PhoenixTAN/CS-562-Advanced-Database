{
 "cells": [
  {
   "cell_type": "markdown",
   "metadata": {},
   "source": [
    "# Problem 1. (FastMap) [20 Points] \n",
    "\n",
    "Using the **FastMap** algorithm to embed (map) the following 5-dimensional points into 3-dimensional points. Use the Euclidian distance (L2 norm) as the distance between the points in the original 5-dimensional space. Show the 3-d points of the mapping for each point. \n",
    "\n",
    "p1: (5.1, 3.5, 1.4, 0.2, 3.0)  \n",
    "p2: (4.9, 3.0, 1.4, 0.2, 4.0)  \n",
    "p3: (4.7, 3.2, 1.3, 0.2, 2.0)  \n",
    "p4: (6.9, 3.1, 4.9, 1.5, 2.0)  \n",
    "p5: (5.5, 2.3, 4.0, 1.3, 3.0)  \n",
    "p6: (6.5, 2.8, 4.6, 1.5, 5.0)  \n",
    "p7: (7.2, 3.0, 5.8, 1.6, 7.0)  \n",
    "p8: (7.4, 2.8, 6.1, 1.9, 8.0)  \n"
   ]
  },
  {
   "cell_type": "code",
   "execution_count": null,
   "metadata": {},
   "outputs": [],
   "source": [
    "\n"
   ]
  },
  {
   "cell_type": "markdown",
   "metadata": {},
   "source": [
    "# "
   ]
  }
 ],
 "metadata": {
  "kernelspec": {
   "display_name": "Python 3",
   "language": "python",
   "name": "python3"
  },
  "language_info": {
   "codemirror_mode": {
    "name": "ipython",
    "version": 3
   },
   "file_extension": ".py",
   "mimetype": "text/x-python",
   "name": "python",
   "nbconvert_exporter": "python",
   "pygments_lexer": "ipython3",
   "version": "3.6.9"
  }
 },
 "nbformat": 4,
 "nbformat_minor": 2
}
